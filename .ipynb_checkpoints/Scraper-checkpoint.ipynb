{
 "cells": [
  {
   "cell_type": "code",
   "execution_count": 1,
   "metadata": {},
   "outputs": [],
   "source": [
    "import pandas as pd\n",
    "from bs4 import BeautifulSoup\n",
    "from requests import get\n",
    "from datetime import datetime, date"
   ]
  },
  {
   "cell_type": "code",
   "execution_count": 2,
   "metadata": {},
   "outputs": [],
   "source": [
    "start = datetime.now()"
   ]
  },
  {
   "cell_type": "code",
   "execution_count": 3,
   "metadata": {},
   "outputs": [],
   "source": [
    "df = pd.DataFrame({'Address': list(), 'Size':list(), 'Rooms':list(), 'Floor':list(), 'Total floors': list(),\n",
    "                   'Price (eur)':list(), 'Price per m2 (eur/m2)':list(), 'Type':list(), 'Date': list(), 'Advertiser': list() })\n",
    "l = []"
   ]
  },
  {
   "cell_type": "code",
   "execution_count": 4,
   "metadata": {},
   "outputs": [],
   "source": [
    "# Works as of 02.09.2021.\n",
    "url = 'https://www.halooglasi.com/nekretnine/prodaja-stanova/beograd?page='"
   ]
  },
  {
   "cell_type": "code",
   "execution_count": 5,
   "metadata": {},
   "outputs": [],
   "source": [
    "# The scraper is kind of slow, on my computer it loads approximately 2 pages per seconds\n",
    "# There should be 20 entries per page\n",
    "\n",
    "for page in range (5):  \n",
    "    r = get(url+str(page))\n",
    "    c = r.content\n",
    "    soup= BeautifulSoup(c, 'html.parser')\n",
    "\n",
    "    types =['Premium', 'Standard', 'Top']\n",
    "\n",
    "# There are 3 different add cases, depanding if apartment is classified as a Premium, Top or Standared.\n",
    "# In html, only the division class product changes, while all other things are same\n",
    "\n",
    "    for typ in types:\n",
    "        find_all = soup.find_all('div', {'class':f'product-item product-list-item {typ} real-estates my-product-placeholder'}) \n",
    "        find_all = soup.find_all('div', {'class': f'product-item product-list-item {typ} real-estates my-product-placeholder'})\n",
    "        for entry in find_all:\n",
    "            d = {}\n",
    "            try:\n",
    "                d['Address'] = entry.find('ul', {'class': 'subtitle-places'}).text.replace('\\xa0', ' ')\n",
    "            except:\n",
    "                d['Adress']= None\n",
    "\n",
    "\n",
    "    # Serbian numbering notation is a bit different than english, \n",
    "    # thus python interpretates values larger then 1000 as integer (1.0). \n",
    "    # To bypass this, I transformed prices into strings and ommited values \n",
    "    # which are not numeric.\n",
    "    # In case of error, where no Values are found, we set price to None\n",
    "\n",
    "            # Size\n",
    "            try:\n",
    "                d['Size'] = ''.join(x for x in entry.find_all('div', {'class':'value-wrapper'})[0].text if x.isnumeric())[:-1]\n",
    "            except:\n",
    "                d['Size']= None\n",
    "\n",
    "            # Rooms\n",
    "            try:\n",
    "            # 46 is ASCII code for . while numbers are 0-9 are 48-57\n",
    "                d['Rooms'] =  ''.join(x for x in entry.find_all('div', {'class':'value-wrapper'})[1].text if 45 < ord(x) < 58)\n",
    "            except:\n",
    "                d['Rooms']= None\n",
    "\n",
    "                # Floors\n",
    "            try:\n",
    "                # Floors are given in format I/4 where first number is roman, and represents actual floor\n",
    "                # (or code like VPR for Visoko prizemlje) and arabic number shows total number of floors\n",
    "                floors = ''.join(x for x in entry.find_all('div', {'class':'value-wrapper'})[2].text).split('/')\n",
    "                d['Floor'] = floors[0]\n",
    "                d['Total floors'] = ''.join (x for x in floors[1] if x.isnumeric())\n",
    "            except:\n",
    "                d['Floor']= None\n",
    "                d['Total floors'] = None\n",
    "\n",
    "           #Price \n",
    "            try:\n",
    "                d['Price (eur)'] = ''.join(x for x in str(entry.find('div', {'class':'central-feature'}).text) if x.isnumeric())\n",
    "            except:\n",
    "                d['Price (eur)']= None\n",
    "\n",
    "            # Price in m2\n",
    "            try:\n",
    "            # [:-1] at the end because we get another 2 at the end from m2\n",
    "                d['Price per m2 (eur/m2)'] = ''.join(x for x in str(entry.find('div', {'class':'price-by-surface'}).text) if x.isnumeric())[:-1]\n",
    "            except:\n",
    "                d['Price per m2 (eur/m2)']= None\n",
    "\n",
    "            #Type\n",
    "            d['Type'] = typ\n",
    "\n",
    "            #Advertiser\n",
    "            try:\n",
    "                d['Advertiser'] = ''.join(x for x in entry.find_all('span', {'data-field-name':'oglasivac_nekretnine_s'})[0].text if x.isalpha())\n",
    "            except:\n",
    "                d['Advertiser'] = None\n",
    "\n",
    "            #Date\n",
    "            try:\n",
    "                d['Date'] = entry.find_all('span', {'class':'publish-date'})[0].text\n",
    "            except:\n",
    "                d['Date'] = None\n",
    "\n",
    "#appending to the list, and not directly to the data frame, becase it should be faster this way\n",
    "            l.append(d) "
   ]
  },
  {
   "cell_type": "code",
   "execution_count": 6,
   "metadata": {},
   "outputs": [
    {
     "name": "stdout",
     "output_type": "stream",
     "text": [
      "0:00:00.743621\n"
     ]
    }
   ],
   "source": [
    "df = df.append(l, ignore_index=True)\n",
    "df.to_csv(f'StanoviBGD-{date.today()}.csv')"
   ]
  },
  {
   "cell_type": "code",
   "execution_count": null,
   "metadata": {},
   "outputs": [],
   "source": [
    "print(datetime.now() - start)"
   ]
  }
 ],
 "metadata": {
  "kernelspec": {
   "display_name": "Python 3",
   "language": "python",
   "name": "python3"
  },
  "language_info": {
   "codemirror_mode": {
    "name": "ipython",
    "version": 3
   },
   "file_extension": ".py",
   "mimetype": "text/x-python",
   "name": "python",
   "nbconvert_exporter": "python",
   "pygments_lexer": "ipython3",
   "version": "3.8.5"
  }
 },
 "nbformat": 4,
 "nbformat_minor": 4
}

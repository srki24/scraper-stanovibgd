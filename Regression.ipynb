{
 "cells": [
  {
   "cell_type": "code",
   "execution_count": 1,
   "metadata": {},
   "outputs": [],
   "source": [
    "import pandas as pd\n",
    "import matplotlib.pyplot as plt\n",
    "import seaborn as sns\n",
    "from sklearn.linear_model import LinearRegression\n",
    "from sklearn.model_selection import train_test_split\n",
    "sns.set()"
   ]
  },
  {
   "cell_type": "code",
   "execution_count": 2,
   "metadata": {},
   "outputs": [
    {
     "data": {
      "text/html": [
       "<div>\n",
       "<style scoped>\n",
       "    .dataframe tbody tr th:only-of-type {\n",
       "        vertical-align: middle;\n",
       "    }\n",
       "\n",
       "    .dataframe tbody tr th {\n",
       "        vertical-align: top;\n",
       "    }\n",
       "\n",
       "    .dataframe thead th {\n",
       "        text-align: right;\n",
       "    }\n",
       "</style>\n",
       "<table border=\"1\" class=\"dataframe\">\n",
       "  <thead>\n",
       "    <tr style=\"text-align: right;\">\n",
       "      <th></th>\n",
       "      <th>Unnamed: 0</th>\n",
       "      <th>Address</th>\n",
       "      <th>Size</th>\n",
       "      <th>Rooms</th>\n",
       "      <th>Floor</th>\n",
       "      <th>Total floors</th>\n",
       "      <th>Price (eur)</th>\n",
       "      <th>Price per m2 (eur/m2)</th>\n",
       "      <th>Type</th>\n",
       "      <th>Date</th>\n",
       "      <th>Advertiser</th>\n",
       "    </tr>\n",
       "  </thead>\n",
       "  <tbody>\n",
       "    <tr>\n",
       "      <th>0</th>\n",
       "      <td>0</td>\n",
       "      <td>Beograd Opština Stari grad Centar Simina</td>\n",
       "      <td>27</td>\n",
       "      <td>1.5</td>\n",
       "      <td>I</td>\n",
       "      <td>4.0</td>\n",
       "      <td>92000</td>\n",
       "      <td>3407</td>\n",
       "      <td>Premium</td>\n",
       "      <td>10.02.2021.</td>\n",
       "      <td>Agencija</td>\n",
       "    </tr>\n",
       "    <tr>\n",
       "      <th>1</th>\n",
       "      <td>1</td>\n",
       "      <td>Beograd Opština Vračar Cvetni trg Resavska</td>\n",
       "      <td>113</td>\n",
       "      <td>4.5</td>\n",
       "      <td>V</td>\n",
       "      <td>6.0</td>\n",
       "      <td>290000</td>\n",
       "      <td>2566</td>\n",
       "      <td>Premium</td>\n",
       "      <td>07.02.2021.</td>\n",
       "      <td>Agencija</td>\n",
       "    </tr>\n",
       "    <tr>\n",
       "      <th>2</th>\n",
       "      <td>2</td>\n",
       "      <td>Beograd Opština Čukarica Čukarička padina Stev...</td>\n",
       "      <td>28</td>\n",
       "      <td>1.0</td>\n",
       "      <td>III</td>\n",
       "      <td>7.0</td>\n",
       "      <td>54900</td>\n",
       "      <td>1961</td>\n",
       "      <td>Premium</td>\n",
       "      <td>10.02.2021.</td>\n",
       "      <td>Agencija</td>\n",
       "    </tr>\n",
       "    <tr>\n",
       "      <th>3</th>\n",
       "      <td>3</td>\n",
       "      <td>Beograd Opština Palilula Karaburma Kamčatska</td>\n",
       "      <td>31</td>\n",
       "      <td>0.5</td>\n",
       "      <td>I</td>\n",
       "      <td>5.0</td>\n",
       "      <td>47000</td>\n",
       "      <td>1516</td>\n",
       "      <td>Premium</td>\n",
       "      <td>10.02.2021.</td>\n",
       "      <td>Agencija</td>\n",
       "    </tr>\n",
       "    <tr>\n",
       "      <th>4</th>\n",
       "      <td>4</td>\n",
       "      <td>Beograd Opština Vračar Crveni krst Starca Vuja...</td>\n",
       "      <td>51</td>\n",
       "      <td>2.5</td>\n",
       "      <td>III</td>\n",
       "      <td>4.0</td>\n",
       "      <td>102900</td>\n",
       "      <td>2018</td>\n",
       "      <td>Premium</td>\n",
       "      <td>10.02.2021.</td>\n",
       "      <td>Agencija</td>\n",
       "    </tr>\n",
       "  </tbody>\n",
       "</table>\n",
       "</div>"
      ],
      "text/plain": [
       "   Unnamed: 0                                            Address  Size  Rooms  \\\n",
       "0           0          Beograd Opština Stari grad Centar Simina     27    1.5   \n",
       "1           1        Beograd Opština Vračar Cvetni trg Resavska    113    4.5   \n",
       "2           2  Beograd Opština Čukarica Čukarička padina Stev...    28    1.0   \n",
       "3           3      Beograd Opština Palilula Karaburma Kamčatska     31    0.5   \n",
       "4           4  Beograd Opština Vračar Crveni krst Starca Vuja...    51    2.5   \n",
       "\n",
       "  Floor  Total floors  Price (eur)  Price per m2 (eur/m2)     Type  \\\n",
       "0     I           4.0        92000                   3407  Premium   \n",
       "1     V           6.0       290000                   2566  Premium   \n",
       "2   III           7.0        54900                   1961  Premium   \n",
       "3     I           5.0        47000                   1516  Premium   \n",
       "4   III           4.0       102900                   2018  Premium   \n",
       "\n",
       "          Date Advertiser  \n",
       "0  10.02.2021.   Agencija  \n",
       "1  07.02.2021.   Agencija  \n",
       "2  10.02.2021.   Agencija  \n",
       "3  10.02.2021.   Agencija  \n",
       "4  10.02.2021.   Agencija  "
      ]
     },
     "execution_count": 2,
     "metadata": {},
     "output_type": "execute_result"
    }
   ],
   "source": [
    "# 50 pages of data scraped, 1000 observations\n",
    "raw_data = pd.read_csv('StanoviBGD-2021-02-10.csv')\n",
    "raw_data.head()"
   ]
  },
  {
   "cell_type": "code",
   "execution_count": 3,
   "metadata": {},
   "outputs": [],
   "source": [
    "# Removing excess data\n",
    "# We certanily won't use address or Index in this instance, it might be interesting to try something with Geo Coding in the future\n",
    "# Price per m2 in combination with size will distort regression model\n",
    "# Since the data is sourced from recent scraping, it shouldn't be important\n",
    "# Size and Number of rooms are expected to corelate \n",
    "data = raw_data.drop(['Address','Unnamed: 0', 'Price per m2 (eur/m2)', 'Date', 'Rooms'],axis = 1)"
   ]
  },
  {
   "cell_type": "code",
   "execution_count": 4,
   "metadata": {
    "scrolled": true
   },
   "outputs": [
    {
     "data": {
      "text/plain": [
       "Size             0\n",
       "Floor           66\n",
       "Total floors    66\n",
       "Price (eur)      0\n",
       "Type             0\n",
       "Advertiser       0\n",
       "dtype: int64"
      ]
     },
     "execution_count": 4,
     "metadata": {},
     "output_type": "execute_result"
    }
   ],
   "source": [
    "# Checking for null values\n",
    "data.isnull().sum() "
   ]
  },
  {
   "cell_type": "code",
   "execution_count": 5,
   "metadata": {},
   "outputs": [],
   "source": [
    "# Since there are not that many cases I' ve decided to simplyremove them\n",
    "data = data.dropna()"
   ]
  },
  {
   "cell_type": "code",
   "execution_count": 6,
   "metadata": {},
   "outputs": [
    {
     "data": {
      "text/html": [
       "<div>\n",
       "<style scoped>\n",
       "    .dataframe tbody tr th:only-of-type {\n",
       "        vertical-align: middle;\n",
       "    }\n",
       "\n",
       "    .dataframe tbody tr th {\n",
       "        vertical-align: top;\n",
       "    }\n",
       "\n",
       "    .dataframe thead th {\n",
       "        text-align: right;\n",
       "    }\n",
       "</style>\n",
       "<table border=\"1\" class=\"dataframe\">\n",
       "  <thead>\n",
       "    <tr style=\"text-align: right;\">\n",
       "      <th></th>\n",
       "      <th>Size</th>\n",
       "      <th>Total floors</th>\n",
       "      <th>Price (eur)</th>\n",
       "    </tr>\n",
       "  </thead>\n",
       "  <tbody>\n",
       "    <tr>\n",
       "      <th>count</th>\n",
       "      <td>934.000000</td>\n",
       "      <td>934.000000</td>\n",
       "      <td>934.000000</td>\n",
       "    </tr>\n",
       "    <tr>\n",
       "      <th>mean</th>\n",
       "      <td>553.663812</td>\n",
       "      <td>6.173448</td>\n",
       "      <td>150661.293362</td>\n",
       "    </tr>\n",
       "    <tr>\n",
       "      <th>std</th>\n",
       "      <td>1963.294362</td>\n",
       "      <td>3.765913</td>\n",
       "      <td>95436.225309</td>\n",
       "    </tr>\n",
       "    <tr>\n",
       "      <th>min</th>\n",
       "      <td>1.000000</td>\n",
       "      <td>1.000000</td>\n",
       "      <td>1299.000000</td>\n",
       "    </tr>\n",
       "    <tr>\n",
       "      <th>25%</th>\n",
       "      <td>51.000000</td>\n",
       "      <td>4.000000</td>\n",
       "      <td>89000.000000</td>\n",
       "    </tr>\n",
       "    <tr>\n",
       "      <th>50%</th>\n",
       "      <td>67.000000</td>\n",
       "      <td>5.000000</td>\n",
       "      <td>126500.000000</td>\n",
       "    </tr>\n",
       "    <tr>\n",
       "      <th>75%</th>\n",
       "      <td>95.750000</td>\n",
       "      <td>7.000000</td>\n",
       "      <td>183000.000000</td>\n",
       "    </tr>\n",
       "    <tr>\n",
       "      <th>max</th>\n",
       "      <td>14996.000000</td>\n",
       "      <td>30.000000</td>\n",
       "      <td>950000.000000</td>\n",
       "    </tr>\n",
       "  </tbody>\n",
       "</table>\n",
       "</div>"
      ],
      "text/plain": [
       "               Size  Total floors    Price (eur)\n",
       "count    934.000000    934.000000     934.000000\n",
       "mean     553.663812      6.173448  150661.293362\n",
       "std     1963.294362      3.765913   95436.225309\n",
       "min        1.000000      1.000000    1299.000000\n",
       "25%       51.000000      4.000000   89000.000000\n",
       "50%       67.000000      5.000000  126500.000000\n",
       "75%       95.750000      7.000000  183000.000000\n",
       "max    14996.000000     30.000000  950000.000000"
      ]
     },
     "execution_count": 6,
     "metadata": {},
     "output_type": "execute_result"
    }
   ],
   "source": [
    "# Detecting otliers\n",
    "data.describe()"
   ]
  },
  {
   "cell_type": "code",
   "execution_count": 7,
   "metadata": {},
   "outputs": [
    {
     "data": {
      "text/plain": [
       "<seaborn.axisgrid.FacetGrid at 0x22493d05c10>"
      ]
     },
     "execution_count": 7,
     "metadata": {},
     "output_type": "execute_result"
    },
    {
     "data": {
      "image/png": "[encoded data removed]",
      "text/plain": [
       "<Figure size 360x360 with 1 Axes>"
      ]
     },
     "metadata": {},
     "output_type": "display_data"
    }
   ],
   "source": [
    "# Removing outliers for price, since there were not that many I' ve decided to trimp top 5 and bottom 1 percentile\n",
    "qpmax = data['Price (eur)'].quantile(0.95)\n",
    "qpmin = data['Price (eur)'].quantile(0.01)\n",
    "data2 = data[data['Price (eur)'].between(qpmin, qpmax)]\n",
    "sns.displot(data2['Price (eur)'])"
   ]
  },
  {
   "cell_type": "code",
   "execution_count": 8,
   "metadata": {},
   "outputs": [
    {
     "data": {
      "text/plain": [
       "<seaborn.axisgrid.FacetGrid at 0x22493ff8fa0>"
      ]
     },
     "execution_count": 8,
     "metadata": {},
     "output_type": "execute_result"
    },
    {
     "data": {
      "image/png": "[encoded data removed]",
      "text/plain": [
       "<Figure size 360x360 with 1 Axes>"
      ]
     },
     "metadata": {},
     "output_type": "display_data"
    }
   ],
   "source": [
    "# Size had much more outliers, thus after some testing I removed top 9 percentiles and bottom 0.1\n",
    "qsmax = data2['Size'].quantile(0.91)\n",
    "qsmin = data2['Size'].quantile(0.001)\n",
    "data_cleaned = data2[data2['Size'].between(qsmin, qsmax)]\n",
    "sns.displot(data_cleaned['Size'])"
   ]
  },
  {
   "cell_type": "code",
   "execution_count": 9,
   "metadata": {},
   "outputs": [
    {
     "data": {
      "text/html": [
       "<div>\n",
       "<style scoped>\n",
       "    .dataframe tbody tr th:only-of-type {\n",
       "        vertical-align: middle;\n",
       "    }\n",
       "\n",
       "    .dataframe tbody tr th {\n",
       "        vertical-align: top;\n",
       "    }\n",
       "\n",
       "    .dataframe thead th {\n",
       "        text-align: right;\n",
       "    }\n",
       "</style>\n",
       "<table border=\"1\" class=\"dataframe\">\n",
       "  <thead>\n",
       "    <tr style=\"text-align: right;\">\n",
       "      <th></th>\n",
       "      <th>Size</th>\n",
       "      <th>Total floors</th>\n",
       "      <th>Price (eur)</th>\n",
       "    </tr>\n",
       "  </thead>\n",
       "  <tbody>\n",
       "    <tr>\n",
       "      <th>count</th>\n",
       "      <td>803.000000</td>\n",
       "      <td>803.000000</td>\n",
       "      <td>803.000000</td>\n",
       "    </tr>\n",
       "    <tr>\n",
       "      <th>mean</th>\n",
       "      <td>66.953923</td>\n",
       "      <td>6.190535</td>\n",
       "      <td>135080.114570</td>\n",
       "    </tr>\n",
       "    <tr>\n",
       "      <th>std</th>\n",
       "      <td>23.847638</td>\n",
       "      <td>3.721584</td>\n",
       "      <td>64672.583659</td>\n",
       "    </tr>\n",
       "    <tr>\n",
       "      <th>min</th>\n",
       "      <td>23.000000</td>\n",
       "      <td>1.000000</td>\n",
       "      <td>35000.000000</td>\n",
       "    </tr>\n",
       "    <tr>\n",
       "      <th>25%</th>\n",
       "      <td>50.000000</td>\n",
       "      <td>4.000000</td>\n",
       "      <td>88000.000000</td>\n",
       "    </tr>\n",
       "    <tr>\n",
       "      <th>50%</th>\n",
       "      <td>63.000000</td>\n",
       "      <td>5.000000</td>\n",
       "      <td>120000.000000</td>\n",
       "    </tr>\n",
       "    <tr>\n",
       "      <th>75%</th>\n",
       "      <td>84.500000</td>\n",
       "      <td>7.000000</td>\n",
       "      <td>168000.000000</td>\n",
       "    </tr>\n",
       "    <tr>\n",
       "      <th>max</th>\n",
       "      <td>130.000000</td>\n",
       "      <td>30.000000</td>\n",
       "      <td>325000.000000</td>\n",
       "    </tr>\n",
       "  </tbody>\n",
       "</table>\n",
       "</div>"
      ],
      "text/plain": [
       "             Size  Total floors    Price (eur)\n",
       "count  803.000000    803.000000     803.000000\n",
       "mean    66.953923      6.190535  135080.114570\n",
       "std     23.847638      3.721584   64672.583659\n",
       "min     23.000000      1.000000   35000.000000\n",
       "25%     50.000000      4.000000   88000.000000\n",
       "50%     63.000000      5.000000  120000.000000\n",
       "75%     84.500000      7.000000  168000.000000\n",
       "max    130.000000     30.000000  325000.000000"
      ]
     },
     "execution_count": 9,
     "metadata": {},
     "output_type": "execute_result"
    }
   ],
   "source": [
    "# After data cleaning, we ended up with about 80% of the originial data\n",
    "# Data is still a bit skewed, but I think that shouldnt pose a problem\n",
    "data_cleaned.describe()"
   ]
  },
  {
   "cell_type": "code",
   "execution_count": 10,
   "metadata": {},
   "outputs": [],
   "source": [
    "# Transforming categorical data\n",
    "# With Advertiser and Type, the case is straight forward\n",
    "# For Advertiser I treated Investitor and Owner as same category, since they are not that well represented in this database\n",
    "# Maybe we should try something with sampling?\n",
    "# In our sample we didn't have any of 'Standard' advertisements, and those were only types\n",
    "data_transformed = data_cleaned.copy()\n",
    "data_transformed['Advertiser'] = data_transformed['Advertiser'].map({'Investitor': 0 ,'Vlasnik': 0, 'Agencija':1})\n",
    "data_transformed['Type'] = data_transformed['Type'].map({'Premium': 0, 'Top': 1})"
   ]
  },
  {
   "cell_type": "code",
   "execution_count": 11,
   "metadata": {
    "scrolled": true
   },
   "outputs": [
    {
     "data": {
      "text/plain": [
       "array(['I', 'V', 'III', 'X', 'IV', 'II', 'VIII', 'VI', 'VPR', 'VII', 'PR',\n",
       "       'XII', 'IX', 'XV', 'XI', 'XIII', 'XVI', 'SUT', 'XVII', 'XIV'],\n",
       "      dtype=object)"
      ]
     },
     "execution_count": 11,
     "metadata": {},
     "output_type": "execute_result"
    }
   ],
   "source": [
    "# Values for floors were given in Roman alphabet, with some codes\n",
    "# I have decided to transform PR and SUT (Prizemlje - ground floor, Suteren basement?) as Floor 0\n",
    "# VPR (visoko prizemlje - higher ground floor) as Floor 1\n",
    "# and other rooman floors accordingly.\n",
    "data_transformed['Floor'].unique()"
   ]
  },
  {
   "cell_type": "code",
   "execution_count": 12,
   "metadata": {},
   "outputs": [],
   "source": [
    "# Quick function to transform roman to arabic numbers, prone to errors, doesn't check if proper roman numbers are used\n",
    "def to_arabic(r_nr):\n",
    "    roman_pairs = {'I': 1, 'V': 5, 'X': 10, 'L': 50}\n",
    "    r_nr = r_nr.upper()\n",
    "    total = roman_pairs[r_nr[0]] # 1st character transformed into arabic\n",
    "    if len(r_nr) == 1:\n",
    "        return total\n",
    "    else:\n",
    "        for i in range(1, len(r_nr)): #Ignoring first case..\n",
    "            nr = roman_pairs[r_nr[i]]\n",
    "            if r_nr[i] <= r_nr[i-1]:\n",
    "                total += nr\n",
    "            else:\n",
    "                total -= nr\n",
    "        return abs(total) # Abs because it will calculate IV as -4 and IX as -9..."
   ]
  },
  {
   "cell_type": "code",
   "execution_count": 13,
   "metadata": {},
   "outputs": [],
   "source": [
    "# Hard coding non roman values and then appending roman ones\n",
    "value_pairs = {'PR':0, 'SUT': 0, 'VPR': 1} \n",
    "for num in data_transformed['Floor'].unique():\n",
    "    try:\n",
    "        value_pairs[num] =(to_arabic(num))\n",
    "    except:\n",
    "        pass    \n",
    "data_transformed['Floor'] = data_transformed['Floor'].map(value_pairs)"
   ]
  },
  {
   "cell_type": "code",
   "execution_count": 14,
   "metadata": {},
   "outputs": [],
   "source": [
    "# Finally regression\n",
    "# Test train split\n",
    "\n",
    "y = data_transformed['Price (eur)']\n",
    "X = data_transformed.drop('Price (eur)', axis = 1)\n",
    "X_train, X_test, y_train, y_test = train_test_split(X,y, test_size = 0.2, random_state = 15)\n",
    "reg = LinearRegression().fit(X_train, y_train)"
   ]
  },
  {
   "cell_type": "code",
   "execution_count": 15,
   "metadata": {},
   "outputs": [
    {
     "data": {
      "text/plain": [
       "0.6107152355272869"
      ]
     },
     "execution_count": 15,
     "metadata": {},
     "output_type": "execute_result"
    }
   ],
   "source": [
    "# 61% of price on test data is explained by our model\n",
    "reg.score(X_test, y_test) "
   ]
  },
  {
   "cell_type": "code",
   "execution_count": 16,
   "metadata": {},
   "outputs": [
    {
     "data": {
      "text/html": [
       "<div>\n",
       "<style scoped>\n",
       "    .dataframe tbody tr th:only-of-type {\n",
       "        vertical-align: middle;\n",
       "    }\n",
       "\n",
       "    .dataframe tbody tr th {\n",
       "        vertical-align: top;\n",
       "    }\n",
       "\n",
       "    .dataframe thead th {\n",
       "        text-align: right;\n",
       "    }\n",
       "</style>\n",
       "<table border=\"1\" class=\"dataframe\">\n",
       "  <thead>\n",
       "    <tr style=\"text-align: right;\">\n",
       "      <th></th>\n",
       "      <th>Features</th>\n",
       "      <th>Weights</th>\n",
       "    </tr>\n",
       "  </thead>\n",
       "  <tbody>\n",
       "    <tr>\n",
       "      <th>0</th>\n",
       "      <td>Size</td>\n",
       "      <td>2188.463868</td>\n",
       "    </tr>\n",
       "    <tr>\n",
       "      <th>1</th>\n",
       "      <td>Floor</td>\n",
       "      <td>-1057.195549</td>\n",
       "    </tr>\n",
       "    <tr>\n",
       "      <th>2</th>\n",
       "      <td>Total floors</td>\n",
       "      <td>1891.315967</td>\n",
       "    </tr>\n",
       "    <tr>\n",
       "      <th>3</th>\n",
       "      <td>Type</td>\n",
       "      <td>-18827.484782</td>\n",
       "    </tr>\n",
       "    <tr>\n",
       "      <th>4</th>\n",
       "      <td>Advertiser</td>\n",
       "      <td>13438.955592</td>\n",
       "    </tr>\n",
       "  </tbody>\n",
       "</table>\n",
       "</div>"
      ],
      "text/plain": [
       "       Features       Weights\n",
       "0          Size   2188.463868\n",
       "1         Floor  -1057.195549\n",
       "2  Total floors   1891.315967\n",
       "3          Type -18827.484782\n",
       "4    Advertiser  13438.955592"
      ]
     },
     "execution_count": 16,
     "metadata": {},
     "output_type": "execute_result"
    }
   ],
   "source": [
    "# Regression table\n",
    "# Summary: 'Top' appartments are on average cheaper than 'Premium'\n",
    "# Agency is selling on average for more then investitor or owner\n",
    "# Should be further examined\n",
    "reg_table = pd.DataFrame(X.columns.values, columns = ['Features'])\n",
    "reg_table['Weights'] = reg.coef_\n",
    "reg_table"
   ]
  },
  {
   "cell_type": "code",
   "execution_count": 17,
   "metadata": {},
   "outputs": [
    {
     "data": {
      "image/png": "[encoded data removed]",
      "text/plain": [
       "<Figure size 432x288 with 1 Axes>"
      ]
     },
     "metadata": {},
     "output_type": "display_data"
    }
   ],
   "source": [
    "# Predictions plot initial impression: model underestimates prices when they are higher\n",
    "y_hat_test = reg.predict(X_test)\n",
    "plt.scatter(y_test, y_hat_test)\n",
    "plt.xlabel('Actual Value')\n",
    "plt.ylabel('Prediction')\n",
    "plt.plot([0,300000],[0,300000], color = 'orange', linewidth = 3)\n",
    "plt.show()"
   ]
  },
  {
   "cell_type": "code",
   "execution_count": 18,
   "metadata": {},
   "outputs": [
    {
     "data": {
      "text/html": [
       "<div>\n",
       "<style scoped>\n",
       "    .dataframe tbody tr th:only-of-type {\n",
       "        vertical-align: middle;\n",
       "    }\n",
       "\n",
       "    .dataframe tbody tr th {\n",
       "        vertical-align: top;\n",
       "    }\n",
       "\n",
       "    .dataframe thead th {\n",
       "        text-align: right;\n",
       "    }\n",
       "</style>\n",
       "<table border=\"1\" class=\"dataframe\">\n",
       "  <thead>\n",
       "    <tr style=\"text-align: right;\">\n",
       "      <th></th>\n",
       "      <th>Prediction</th>\n",
       "      <th>Targets</th>\n",
       "      <th>Residual</th>\n",
       "      <th>Difference%</th>\n",
       "    </tr>\n",
       "  </thead>\n",
       "  <tbody>\n",
       "    <tr>\n",
       "      <th>count</th>\n",
       "      <td>161.000000</td>\n",
       "      <td>161.000000</td>\n",
       "      <td>161.000000</td>\n",
       "      <td>161.000000</td>\n",
       "    </tr>\n",
       "    <tr>\n",
       "      <th>mean</th>\n",
       "      <td>132220.808878</td>\n",
       "      <td>132113.857143</td>\n",
       "      <td>31256.325884</td>\n",
       "      <td>27.918193</td>\n",
       "    </tr>\n",
       "    <tr>\n",
       "      <th>std</th>\n",
       "      <td>57835.752908</td>\n",
       "      <td>63023.958867</td>\n",
       "      <td>23731.471478</td>\n",
       "      <td>25.831750</td>\n",
       "    </tr>\n",
       "    <tr>\n",
       "      <th>min</th>\n",
       "      <td>27728.911913</td>\n",
       "      <td>38000.000000</td>\n",
       "      <td>300.255067</td>\n",
       "      <td>0.201513</td>\n",
       "    </tr>\n",
       "    <tr>\n",
       "      <th>25%</th>\n",
       "      <td>86200.666058</td>\n",
       "      <td>85500.000000</td>\n",
       "      <td>10797.386546</td>\n",
       "      <td>10.903626</td>\n",
       "    </tr>\n",
       "    <tr>\n",
       "      <th>50%</th>\n",
       "      <td>122935.434061</td>\n",
       "      <td>119000.000000</td>\n",
       "      <td>27521.554920</td>\n",
       "      <td>22.034603</td>\n",
       "    </tr>\n",
       "    <tr>\n",
       "      <th>75%</th>\n",
       "      <td>179024.341697</td>\n",
       "      <td>162000.000000</td>\n",
       "      <td>41719.068996</td>\n",
       "      <td>36.376229</td>\n",
       "    </tr>\n",
       "    <tr>\n",
       "      <th>max</th>\n",
       "      <td>264860.085966</td>\n",
       "      <td>315000.000000</td>\n",
       "      <td>102808.413762</td>\n",
       "      <td>144.430913</td>\n",
       "    </tr>\n",
       "  </tbody>\n",
       "</table>\n",
       "</div>"
      ],
      "text/plain": [
       "          Prediction        Targets       Residual  Difference%\n",
       "count     161.000000     161.000000     161.000000   161.000000\n",
       "mean   132220.808878  132113.857143   31256.325884    27.918193\n",
       "std     57835.752908   63023.958867   23731.471478    25.831750\n",
       "min     27728.911913   38000.000000     300.255067     0.201513\n",
       "25%     86200.666058   85500.000000   10797.386546    10.903626\n",
       "50%    122935.434061  119000.000000   27521.554920    22.034603\n",
       "75%    179024.341697  162000.000000   41719.068996    36.376229\n",
       "max    264860.085966  315000.000000  102808.413762   144.430913"
      ]
     },
     "execution_count": 18,
     "metadata": {},
     "output_type": "execute_result"
    }
   ],
   "source": [
    "# Error summary table:\n",
    "err = pd.DataFrame((y_hat_test), columns = ['Prediction'])\n",
    "err['Targets'] = y_test.reset_index(drop=True)\n",
    "err['Residual'] = abs(err['Prediction'] - err['Targets'])\n",
    "err['Difference%'] = err['Residual']/err['Targets']*100\n",
    "err.describe()"
   ]
  },
  {
   "cell_type": "code",
   "execution_count": null,
   "metadata": {},
   "outputs": [],
   "source": []
  }
 ],
 "metadata": {
  "kernelspec": {
   "display_name": "Python 3",
   "language": "python",
   "name": "python3"
  },
  "language_info": {
   "codemirror_mode": {
    "name": "ipython",
    "version": 3
   },
   "file_extension": ".py",
   "mimetype": "text/x-python",
   "name": "python",
   "nbconvert_exporter": "python",
   "pygments_lexer": "ipython3",
   "version": "3.8.5"
  }
 },
 "nbformat": 4,
 "nbformat_minor": 4
}

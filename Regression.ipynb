{
 "cells": [
  {
   "cell_type": "code",
   "execution_count": 1,
   "metadata": {},
   "outputs": [],
   "source": [
    "import pandas as pd\n",
    "import matplotlib.pyplot as plt\n",
    "import seaborn as sns\n",
    "from sklearn.linear_model import LinearRegression\n",
    "from sklearn.model_selection import train_test_split\n",
    "sns.set()"
   ]
  },
  {
   "cell_type": "markdown",
   "metadata": {},
   "source": [
    "## Loading the data"
   ]
  },
  {
   "cell_type": "code",
   "execution_count": 2,
   "metadata": {},
   "outputs": [
    {
     "data": {
      "text/html": [
       "<div>\n",
       "<style scoped>\n",
       "    .dataframe tbody tr th:only-of-type {\n",
       "        vertical-align: middle;\n",
       "    }\n",
       "\n",
       "    .dataframe tbody tr th {\n",
       "        vertical-align: top;\n",
       "    }\n",
       "\n",
       "    .dataframe thead th {\n",
       "        text-align: right;\n",
       "    }\n",
       "</style>\n",
       "<table border=\"1\" class=\"dataframe\">\n",
       "  <thead>\n",
       "    <tr style=\"text-align: right;\">\n",
       "      <th></th>\n",
       "      <th>Unnamed: 0</th>\n",
       "      <th>City</th>\n",
       "      <th>Municipality</th>\n",
       "      <th>Part_of_the_city</th>\n",
       "      <th>Size</th>\n",
       "      <th>Rooms</th>\n",
       "      <th>Floor</th>\n",
       "      <th>Total floors</th>\n",
       "      <th>Price</th>\n",
       "      <th>Price_per_m2</th>\n",
       "      <th>Type</th>\n",
       "      <th>Advertiser</th>\n",
       "      <th>Date</th>\n",
       "    </tr>\n",
       "  </thead>\n",
       "  <tbody>\n",
       "    <tr>\n",
       "      <th>0</th>\n",
       "      <td>0</td>\n",
       "      <td>Beograd</td>\n",
       "      <td>Opština Zemun</td>\n",
       "      <td>Donji grad</td>\n",
       "      <td>69.0</td>\n",
       "      <td>3.0</td>\n",
       "      <td>VPR</td>\n",
       "      <td>8.0</td>\n",
       "      <td>145000</td>\n",
       "      <td>2101</td>\n",
       "      <td>Premium</td>\n",
       "      <td>Agencija</td>\n",
       "      <td>25.02.2021.</td>\n",
       "    </tr>\n",
       "    <tr>\n",
       "      <th>1</th>\n",
       "      <td>1</td>\n",
       "      <td>Beograd</td>\n",
       "      <td>Opština Zemun</td>\n",
       "      <td>Donji grad</td>\n",
       "      <td>51.0</td>\n",
       "      <td>2.0</td>\n",
       "      <td>II</td>\n",
       "      <td>8.0</td>\n",
       "      <td>109000</td>\n",
       "      <td>2137</td>\n",
       "      <td>Premium</td>\n",
       "      <td>Agencija</td>\n",
       "      <td>25.02.2021.</td>\n",
       "    </tr>\n",
       "    <tr>\n",
       "      <th>2</th>\n",
       "      <td>2</td>\n",
       "      <td>Beograd</td>\n",
       "      <td>Opština Zemun</td>\n",
       "      <td>Donji grad</td>\n",
       "      <td>46.0</td>\n",
       "      <td>2.0</td>\n",
       "      <td>II</td>\n",
       "      <td>8.0</td>\n",
       "      <td>99000</td>\n",
       "      <td>2152</td>\n",
       "      <td>Premium</td>\n",
       "      <td>Agencija</td>\n",
       "      <td>25.02.2021.</td>\n",
       "    </tr>\n",
       "    <tr>\n",
       "      <th>3</th>\n",
       "      <td>3</td>\n",
       "      <td>Beograd</td>\n",
       "      <td>Opština Savski venac</td>\n",
       "      <td>Dedinje</td>\n",
       "      <td>135.0</td>\n",
       "      <td>4.0</td>\n",
       "      <td>II</td>\n",
       "      <td>3.0</td>\n",
       "      <td>355000</td>\n",
       "      <td>2630</td>\n",
       "      <td>Premium</td>\n",
       "      <td>Agencija</td>\n",
       "      <td>22.02.2021.</td>\n",
       "    </tr>\n",
       "    <tr>\n",
       "      <th>4</th>\n",
       "      <td>4</td>\n",
       "      <td>Beograd</td>\n",
       "      <td>Opština Vračar</td>\n",
       "      <td>Kalenić pijaca</td>\n",
       "      <td>72.0</td>\n",
       "      <td>3.0</td>\n",
       "      <td>I</td>\n",
       "      <td>5.0</td>\n",
       "      <td>189000</td>\n",
       "      <td>2625</td>\n",
       "      <td>Premium</td>\n",
       "      <td>Agencija</td>\n",
       "      <td>25.02.2021.</td>\n",
       "    </tr>\n",
       "  </tbody>\n",
       "</table>\n",
       "</div>"
      ],
      "text/plain": [
       "   Unnamed: 0      City           Municipality Part_of_the_city   Size  Rooms  \\\n",
       "0           0  Beograd          Opština Zemun       Donji grad    69.0    3.0   \n",
       "1           1  Beograd          Opština Zemun       Donji grad    51.0    2.0   \n",
       "2           2  Beograd          Opština Zemun       Donji grad    46.0    2.0   \n",
       "3           3  Beograd   Opština Savski venac          Dedinje   135.0    4.0   \n",
       "4           4  Beograd         Opština Vračar   Kalenić pijaca    72.0    3.0   \n",
       "\n",
       "  Floor  Total floors   Price  Price_per_m2     Type Advertiser         Date  \n",
       "0   VPR           8.0  145000          2101  Premium   Agencija  25.02.2021.  \n",
       "1    II           8.0  109000          2137  Premium   Agencija  25.02.2021.  \n",
       "2    II           8.0   99000          2152  Premium   Agencija  25.02.2021.  \n",
       "3    II           3.0  355000          2630  Premium   Agencija  22.02.2021.  \n",
       "4     I           5.0  189000          2625  Premium   Agencija  25.02.2021.  "
      ]
     },
     "execution_count": 2,
     "metadata": {},
     "output_type": "execute_result"
    }
   ],
   "source": [
    "# 50 pages of data scraped, 1000 observations\n",
    "raw_data = pd.read_excel('StanoviBGD-2021-02-25-50pages.xlsx')\n",
    "raw_data.head()"
   ]
  },
  {
   "cell_type": "code",
   "execution_count": 3,
   "metadata": {},
   "outputs": [],
   "source": [
    "# Removing excess data\n",
    "# All the data we have is for Belgrade, thus we remove City\n",
    "# There are more than 170 different parts of the city, thus I also removed them\n",
    "# Price per m2 in combination with size will distort regression model\n",
    "# Since the data is sourced from recent scraping, it shouldn't be important\n",
    "# Size and Number of rooms are expected to corelate \n",
    "data = raw_data.drop([ 'Unnamed: 0', 'City', 'Part_of_the_city', 'Price_per_m2', 'Date', 'Rooms'],axis = 1)"
   ]
  },
  {
   "cell_type": "markdown",
   "metadata": {},
   "source": [
    "##  Missing values"
   ]
  },
  {
   "cell_type": "code",
   "execution_count": 4,
   "metadata": {
    "scrolled": true
   },
   "outputs": [
    {
     "data": {
      "text/plain": [
       "Municipality     0\n",
       "Size             0\n",
       "Floor           57\n",
       "Total floors    57\n",
       "Price            0\n",
       "Type             0\n",
       "Advertiser       0\n",
       "dtype: int64"
      ]
     },
     "execution_count": 4,
     "metadata": {},
     "output_type": "execute_result"
    }
   ],
   "source": [
    "# Checking for null values\n",
    "data.isnull().sum() "
   ]
  },
  {
   "cell_type": "code",
   "execution_count": 5,
   "metadata": {},
   "outputs": [],
   "source": [
    "# Since there are not that many cases I' ve decided to simplyremove them\n",
    "data = data.dropna()"
   ]
  },
  {
   "cell_type": "code",
   "execution_count": 6,
   "metadata": {},
   "outputs": [
    {
     "data": {
      "text/html": [
       "<div>\n",
       "<style scoped>\n",
       "    .dataframe tbody tr th:only-of-type {\n",
       "        vertical-align: middle;\n",
       "    }\n",
       "\n",
       "    .dataframe tbody tr th {\n",
       "        vertical-align: top;\n",
       "    }\n",
       "\n",
       "    .dataframe thead th {\n",
       "        text-align: right;\n",
       "    }\n",
       "</style>\n",
       "<table border=\"1\" class=\"dataframe\">\n",
       "  <thead>\n",
       "    <tr style=\"text-align: right;\">\n",
       "      <th></th>\n",
       "      <th>Size</th>\n",
       "      <th>Total floors</th>\n",
       "      <th>Price</th>\n",
       "    </tr>\n",
       "  </thead>\n",
       "  <tbody>\n",
       "    <tr>\n",
       "      <th>count</th>\n",
       "      <td>943.000000</td>\n",
       "      <td>943.000000</td>\n",
       "      <td>943.000000</td>\n",
       "    </tr>\n",
       "    <tr>\n",
       "      <th>mean</th>\n",
       "      <td>72.548876</td>\n",
       "      <td>6.100742</td>\n",
       "      <td>150637.531283</td>\n",
       "    </tr>\n",
       "    <tr>\n",
       "      <th>std</th>\n",
       "      <td>32.941880</td>\n",
       "      <td>3.759126</td>\n",
       "      <td>92942.711512</td>\n",
       "    </tr>\n",
       "    <tr>\n",
       "      <th>min</th>\n",
       "      <td>1.000000</td>\n",
       "      <td>1.000000</td>\n",
       "      <td>1050.000000</td>\n",
       "    </tr>\n",
       "    <tr>\n",
       "      <th>25%</th>\n",
       "      <td>51.000000</td>\n",
       "      <td>4.000000</td>\n",
       "      <td>85500.000000</td>\n",
       "    </tr>\n",
       "    <tr>\n",
       "      <th>50%</th>\n",
       "      <td>66.000000</td>\n",
       "      <td>5.000000</td>\n",
       "      <td>128000.000000</td>\n",
       "    </tr>\n",
       "    <tr>\n",
       "      <th>75%</th>\n",
       "      <td>87.000000</td>\n",
       "      <td>7.000000</td>\n",
       "      <td>180000.000000</td>\n",
       "    </tr>\n",
       "    <tr>\n",
       "      <th>max</th>\n",
       "      <td>355.000000</td>\n",
       "      <td>30.000000</td>\n",
       "      <td>750000.000000</td>\n",
       "    </tr>\n",
       "  </tbody>\n",
       "</table>\n",
       "</div>"
      ],
      "text/plain": [
       "             Size  Total floors          Price\n",
       "count  943.000000    943.000000     943.000000\n",
       "mean    72.548876      6.100742  150637.531283\n",
       "std     32.941880      3.759126   92942.711512\n",
       "min      1.000000      1.000000    1050.000000\n",
       "25%     51.000000      4.000000   85500.000000\n",
       "50%     66.000000      5.000000  128000.000000\n",
       "75%     87.000000      7.000000  180000.000000\n",
       "max    355.000000     30.000000  750000.000000"
      ]
     },
     "execution_count": 6,
     "metadata": {},
     "output_type": "execute_result"
    }
   ],
   "source": [
    "# Detecting otliers\n",
    "data.describe()"
   ]
  },
  {
   "cell_type": "markdown",
   "metadata": {},
   "source": [
    "## Cleaning outliers"
   ]
  },
  {
   "cell_type": "code",
   "execution_count": 7,
   "metadata": {},
   "outputs": [
    {
     "data": {
      "text/plain": [
       "<seaborn.axisgrid.FacetGrid at 0x1c58d0dbb50>"
      ]
     },
     "execution_count": 7,
     "metadata": {},
     "output_type": "execute_result"
    },
    {
     "data": {
      "image/png": "[encoded data removed]",
      "text/plain": [
       "<Figure size 360x360 with 1 Axes>"
      ]
     },
     "metadata": {},
     "output_type": "display_data"
    }
   ],
   "source": [
    "# Removing outliers for price, since there were not that many I' ve decided to trimp top 5 and bottom 1 percentile\n",
    "# Prices are still a bit skewed to the left\n",
    "qpmax = data['Price'].quantile(0.95)\n",
    "qpmin = data['Price'].quantile(0.01)\n",
    "data2 = data[data['Price'].between(qpmin, qpmax)]\n",
    "sns.displot(data2['Price'])"
   ]
  },
  {
   "cell_type": "code",
   "execution_count": 8,
   "metadata": {},
   "outputs": [
    {
     "data": {
      "text/plain": [
       "<seaborn.axisgrid.FacetGrid at 0x1c58d44eac0>"
      ]
     },
     "execution_count": 8,
     "metadata": {},
     "output_type": "execute_result"
    },
    {
     "data": {
      "image/png": "[encoded data removed]",
      "text/plain": [
       "<Figure size 360x360 with 1 Axes>"
      ]
     },
     "metadata": {},
     "output_type": "display_data"
    }
   ],
   "source": [
    "# Size outliers, removed top and bottom 1 percentile\n",
    "qsmax = data2['Size'].quantile(0.99)\n",
    "qsmin = data2['Size'].quantile(0.01)\n",
    "data_cleaned = data2[data2['Size'].between(qsmin, qsmax)]\n",
    "sns.displot(data_cleaned['Size'])"
   ]
  },
  {
   "cell_type": "code",
   "execution_count": 9,
   "metadata": {},
   "outputs": [
    {
     "data": {
      "text/html": [
       "<div>\n",
       "<style scoped>\n",
       "    .dataframe tbody tr th:only-of-type {\n",
       "        vertical-align: middle;\n",
       "    }\n",
       "\n",
       "    .dataframe tbody tr th {\n",
       "        vertical-align: top;\n",
       "    }\n",
       "\n",
       "    .dataframe thead th {\n",
       "        text-align: right;\n",
       "    }\n",
       "</style>\n",
       "<table border=\"1\" class=\"dataframe\">\n",
       "  <thead>\n",
       "    <tr style=\"text-align: right;\">\n",
       "      <th></th>\n",
       "      <th>Size</th>\n",
       "      <th>Total floors</th>\n",
       "      <th>Price</th>\n",
       "    </tr>\n",
       "  </thead>\n",
       "  <tbody>\n",
       "    <tr>\n",
       "      <th>count</th>\n",
       "      <td>872.000000</td>\n",
       "      <td>872.000000</td>\n",
       "      <td>872.000000</td>\n",
       "    </tr>\n",
       "    <tr>\n",
       "      <th>mean</th>\n",
       "      <td>68.272775</td>\n",
       "      <td>6.146789</td>\n",
       "      <td>137023.307339</td>\n",
       "    </tr>\n",
       "    <tr>\n",
       "      <th>std</th>\n",
       "      <td>23.489338</td>\n",
       "      <td>3.723080</td>\n",
       "      <td>64562.092509</td>\n",
       "    </tr>\n",
       "    <tr>\n",
       "      <th>min</th>\n",
       "      <td>23.000000</td>\n",
       "      <td>1.000000</td>\n",
       "      <td>35000.000000</td>\n",
       "    </tr>\n",
       "    <tr>\n",
       "      <th>25%</th>\n",
       "      <td>50.690000</td>\n",
       "      <td>4.000000</td>\n",
       "      <td>85050.000000</td>\n",
       "    </tr>\n",
       "    <tr>\n",
       "      <th>50%</th>\n",
       "      <td>65.000000</td>\n",
       "      <td>5.000000</td>\n",
       "      <td>124950.000000</td>\n",
       "    </tr>\n",
       "    <tr>\n",
       "      <th>75%</th>\n",
       "      <td>84.000000</td>\n",
       "      <td>7.000000</td>\n",
       "      <td>172000.000000</td>\n",
       "    </tr>\n",
       "    <tr>\n",
       "      <th>max</th>\n",
       "      <td>140.000000</td>\n",
       "      <td>30.000000</td>\n",
       "      <td>332888.000000</td>\n",
       "    </tr>\n",
       "  </tbody>\n",
       "</table>\n",
       "</div>"
      ],
      "text/plain": [
       "             Size  Total floors          Price\n",
       "count  872.000000    872.000000     872.000000\n",
       "mean    68.272775      6.146789  137023.307339\n",
       "std     23.489338      3.723080   64562.092509\n",
       "min     23.000000      1.000000   35000.000000\n",
       "25%     50.690000      4.000000   85050.000000\n",
       "50%     65.000000      5.000000  124950.000000\n",
       "75%     84.000000      7.000000  172000.000000\n",
       "max    140.000000     30.000000  332888.000000"
      ]
     },
     "execution_count": 9,
     "metadata": {},
     "output_type": "execute_result"
    }
   ],
   "source": [
    "# After data cleaning, we ended up with about 90% of the originial data\n",
    "# Data is still a bit skewed, but I think that shouldnt pose a problem\n",
    "data_cleaned.describe()"
   ]
  },
  {
   "cell_type": "markdown",
   "metadata": {},
   "source": [
    "## Transforming categorical variables"
   ]
  },
  {
   "cell_type": "code",
   "execution_count": 10,
   "metadata": {},
   "outputs": [],
   "source": [
    "data_transformed = data_cleaned.copy()"
   ]
  },
  {
   "cell_type": "markdown",
   "metadata": {},
   "source": [
    "### Municipality"
   ]
  },
  {
   "cell_type": "code",
   "execution_count": 11,
   "metadata": {},
   "outputs": [],
   "source": [
    "# formatting data\n",
    "data_transformed['Municipality'] = data_transformed['Municipality'].map(lambda x: x.replace('Opština ', '').replace('\\xa0',''))"
   ]
  },
  {
   "cell_type": "markdown",
   "metadata": {},
   "source": [
    "### Floors"
   ]
  },
  {
   "cell_type": "code",
   "execution_count": 12,
   "metadata": {},
   "outputs": [
    {
     "data": {
      "text/plain": [
       "array(['VPR', 'II', 'I', 'PR', 'IV', 'III', 'V', 'VI', 'VII', 'VIII',\n",
       "       'XI', 'XII', 'X', 'XIII', 'IX', 'XIX', 'XVI', 'XIV', 'XV', 'SUT',\n",
       "       'PSUT', 'XVIII'], dtype=object)"
      ]
     },
     "execution_count": 12,
     "metadata": {},
     "output_type": "execute_result"
    }
   ],
   "source": [
    "# Values for floors were given in Roman alphabet, with some codes\n",
    "data_transformed['Floor'].unique()"
   ]
  },
  {
   "cell_type": "code",
   "execution_count": 13,
   "metadata": {},
   "outputs": [],
   "source": [
    "# Quick function to transform roman to arabic numbers, prone to errors, doesn't check if proper roman numbers are used\n",
    "def to_arabic(r_nr):\n",
    "    roman_pairs = {'I': 1, 'V': 5, 'X': 10, 'L': 50}\n",
    "    r_nr = r_nr.upper()\n",
    "    total = roman_pairs[r_nr[0]] # 1st character transformed into arabic\n",
    "    if len(r_nr) == 1:\n",
    "        return total\n",
    "    else:\n",
    "        for i in range(1, len(r_nr)): #Ignoring first case..\n",
    "            nr = roman_pairs[r_nr[i]]\n",
    "            if r_nr[i] <= r_nr[i-1]:\n",
    "                total += nr\n",
    "            else:\n",
    "                total -= nr\n",
    "        return abs(total) # Abs because it will calculate IV as -4 and IX as -9..."
   ]
  },
  {
   "cell_type": "code",
   "execution_count": 14,
   "metadata": {},
   "outputs": [],
   "source": [
    "# I have decided to transform PR, SUT and PSUT\n",
    "# Prizemlje - ground floor, Suteren basement?, PSUT - ground floor/ basement) as Floor 0\n",
    "# and VPR (visoko prizemlje - higher ground floor) as Floor 1\n",
    "# Hard coding non roman values and then appending roman ones\n",
    "\n",
    "value_pairs = {'PR':0, 'SUT': 0, 'PSUT':0 ,'VPR': 1} \n",
    "for num in data_transformed['Floor'].unique():\n",
    "    try:\n",
    "        value_pairs[num] =(to_arabic(num))\n",
    "    except:\n",
    "        pass    \n",
    "data_transformed['Floor'] = data_transformed['Floor'].map(value_pairs)"
   ]
  },
  {
   "cell_type": "markdown",
   "metadata": {},
   "source": [
    "### Dummies"
   ]
  },
  {
   "cell_type": "code",
   "execution_count": 15,
   "metadata": {},
   "outputs": [],
   "source": [
    "data_transformed = pd.get_dummies(data_transformed, drop_first = True)"
   ]
  },
  {
   "cell_type": "markdown",
   "metadata": {},
   "source": [
    "## Regression"
   ]
  },
  {
   "cell_type": "markdown",
   "metadata": {},
   "source": [
    "### Fitting the model"
   ]
  },
  {
   "cell_type": "code",
   "execution_count": 16,
   "metadata": {},
   "outputs": [],
   "source": [
    "y = data_transformed['Price']\n",
    "X = data_transformed.drop('Price', axis = 1)\n",
    "X_train, X_test, y_train, y_test = train_test_split(X,y, test_size = 0.2, random_state = 5)\n",
    "reg = LinearRegression(normalize = True).fit(X_train, y_train)"
   ]
  },
  {
   "cell_type": "markdown",
   "metadata": {},
   "source": [
    "### Scores"
   ]
  },
  {
   "cell_type": "code",
   "execution_count": 17,
   "metadata": {
    "scrolled": true
   },
   "outputs": [
    {
     "data": {
      "text/html": [
       "<div>\n",
       "<style scoped>\n",
       "    .dataframe tbody tr th:only-of-type {\n",
       "        vertical-align: middle;\n",
       "    }\n",
       "\n",
       "    .dataframe tbody tr th {\n",
       "        vertical-align: top;\n",
       "    }\n",
       "\n",
       "    .dataframe thead th {\n",
       "        text-align: right;\n",
       "    }\n",
       "</style>\n",
       "<table border=\"1\" class=\"dataframe\">\n",
       "  <thead>\n",
       "    <tr style=\"text-align: right;\">\n",
       "      <th></th>\n",
       "      <th></th>\n",
       "    </tr>\n",
       "  </thead>\n",
       "  <tbody>\n",
       "    <tr>\n",
       "      <th>Train score</th>\n",
       "      <td>0.757524</td>\n",
       "    </tr>\n",
       "    <tr>\n",
       "      <th>Test score</th>\n",
       "      <td>0.721460</td>\n",
       "    </tr>\n",
       "  </tbody>\n",
       "</table>\n",
       "</div>"
      ],
      "text/plain": [
       "                     \n",
       "Train score  0.757524\n",
       "Test score   0.721460"
      ]
     },
     "execution_count": 17,
     "metadata": {},
     "output_type": "execute_result"
    }
   ],
   "source": [
    "res = pd.DataFrame((reg.score(X_train, y_train), reg.score(X_test, y_test)), index = ['Train score','Test score'], columns = [''])\n",
    "res\n",
    "# The model explains 75% of the price varriance on the training dataset, and 72% on the test set"
   ]
  },
  {
   "cell_type": "markdown",
   "metadata": {},
   "source": [
    "### Plotting the model"
   ]
  },
  {
   "cell_type": "code",
   "execution_count": 18,
   "metadata": {},
   "outputs": [
    {
     "data": {
      "image/png": "[encoded data removed]",
      "text/plain": [
       "<Figure size 432x288 with 1 Axes>"
      ]
     },
     "metadata": {},
     "output_type": "display_data"
    }
   ],
   "source": [
    "# Predictions are less accurate for more expensive apartments\n",
    "y_hat_test = reg.predict(X_test)\n",
    "plt.scatter(y_test, y_hat_test)\n",
    "plt.xlabel('Actual Value')\n",
    "plt.ylabel('Prediction')\n",
    "plt.xlim(1000,300000)\n",
    "plt.ylim(1000,300000)\n",
    "plt.plot([0,300000],[0,300000], color = 'orange', linewidth = 3)\n",
    "plt.show()"
   ]
  },
  {
   "cell_type": "markdown",
   "metadata": {},
   "source": [
    "## Regression and error summary tables"
   ]
  },
  {
   "cell_type": "markdown",
   "metadata": {},
   "source": [
    "### Regression table"
   ]
  },
  {
   "cell_type": "code",
   "execution_count": 19,
   "metadata": {
    "scrolled": true
   },
   "outputs": [
    {
     "data": {
      "text/html": [
       "<div>\n",
       "<style scoped>\n",
       "    .dataframe tbody tr th:only-of-type {\n",
       "        vertical-align: middle;\n",
       "    }\n",
       "\n",
       "    .dataframe tbody tr th {\n",
       "        vertical-align: top;\n",
       "    }\n",
       "\n",
       "    .dataframe thead th {\n",
       "        text-align: right;\n",
       "    }\n",
       "</style>\n",
       "<table border=\"1\" class=\"dataframe\">\n",
       "  <thead>\n",
       "    <tr style=\"text-align: right;\">\n",
       "      <th></th>\n",
       "      <th>Features</th>\n",
       "      <th>Weights</th>\n",
       "    </tr>\n",
       "  </thead>\n",
       "  <tbody>\n",
       "    <tr>\n",
       "      <th>0</th>\n",
       "      <td>Size</td>\n",
       "      <td>2054.324257</td>\n",
       "    </tr>\n",
       "    <tr>\n",
       "      <th>1</th>\n",
       "      <td>Floor</td>\n",
       "      <td>-949.905479</td>\n",
       "    </tr>\n",
       "    <tr>\n",
       "      <th>2</th>\n",
       "      <td>Total floors</td>\n",
       "      <td>2192.816476</td>\n",
       "    </tr>\n",
       "    <tr>\n",
       "      <th>3</th>\n",
       "      <td>Municipality_Novi Beograd</td>\n",
       "      <td>37130.014094</td>\n",
       "    </tr>\n",
       "    <tr>\n",
       "      <th>4</th>\n",
       "      <td>Municipality_Palilula</td>\n",
       "      <td>28627.361083</td>\n",
       "    </tr>\n",
       "    <tr>\n",
       "      <th>5</th>\n",
       "      <td>Municipality_Rakovica</td>\n",
       "      <td>-11030.080608</td>\n",
       "    </tr>\n",
       "    <tr>\n",
       "      <th>6</th>\n",
       "      <td>Municipality_Savski venac</td>\n",
       "      <td>54574.148483</td>\n",
       "    </tr>\n",
       "    <tr>\n",
       "      <th>7</th>\n",
       "      <td>Municipality_Stari grad</td>\n",
       "      <td>71115.280385</td>\n",
       "    </tr>\n",
       "    <tr>\n",
       "      <th>8</th>\n",
       "      <td>Municipality_Voždovac</td>\n",
       "      <td>19458.615673</td>\n",
       "    </tr>\n",
       "    <tr>\n",
       "      <th>9</th>\n",
       "      <td>Municipality_Vračar</td>\n",
       "      <td>72071.311024</td>\n",
       "    </tr>\n",
       "    <tr>\n",
       "      <th>10</th>\n",
       "      <td>Municipality_Zemun</td>\n",
       "      <td>24749.279856</td>\n",
       "    </tr>\n",
       "    <tr>\n",
       "      <th>11</th>\n",
       "      <td>Municipality_Zvezdara</td>\n",
       "      <td>27426.387302</td>\n",
       "    </tr>\n",
       "    <tr>\n",
       "      <th>12</th>\n",
       "      <td>Municipality_Čukarica</td>\n",
       "      <td>5032.699038</td>\n",
       "    </tr>\n",
       "    <tr>\n",
       "      <th>13</th>\n",
       "      <td>Type_Top</td>\n",
       "      <td>-7974.180713</td>\n",
       "    </tr>\n",
       "    <tr>\n",
       "      <th>14</th>\n",
       "      <td>Advertiser_Investitor</td>\n",
       "      <td>-1605.126858</td>\n",
       "    </tr>\n",
       "    <tr>\n",
       "      <th>15</th>\n",
       "      <td>Advertiser_Vlasnik</td>\n",
       "      <td>-9092.801706</td>\n",
       "    </tr>\n",
       "  </tbody>\n",
       "</table>\n",
       "</div>"
      ],
      "text/plain": [
       "                     Features       Weights\n",
       "0                        Size   2054.324257\n",
       "1                       Floor   -949.905479\n",
       "2                Total floors   2192.816476\n",
       "3   Municipality_Novi Beograd  37130.014094\n",
       "4       Municipality_Palilula  28627.361083\n",
       "5       Municipality_Rakovica -11030.080608\n",
       "6   Municipality_Savski venac  54574.148483\n",
       "7     Municipality_Stari grad  71115.280385\n",
       "8       Municipality_Voždovac  19458.615673\n",
       "9         Municipality_Vračar  72071.311024\n",
       "10         Municipality_Zemun  24749.279856\n",
       "11      Municipality_Zvezdara  27426.387302\n",
       "12      Municipality_Čukarica   5032.699038\n",
       "13                   Type_Top  -7974.180713\n",
       "14      Advertiser_Investitor  -1605.126858\n",
       "15         Advertiser_Vlasnik  -9092.801706"
      ]
     },
     "execution_count": 19,
     "metadata": {},
     "output_type": "execute_result"
    }
   ],
   "source": [
    "# Summary: 'Top' appartments are on average cheaper than 'Premium'\n",
    "# Agency is selling on average for more then investitor or owner\n",
    "# and price varies greatly between municipalities\n",
    "reg_table = pd.DataFrame(X.columns.values, columns = ['Features'])\n",
    "reg_table['Weights'] = reg.coef_\n",
    "reg_table"
   ]
  },
  {
   "cell_type": "markdown",
   "metadata": {},
   "source": [
    "### Error summary"
   ]
  },
  {
   "cell_type": "code",
   "execution_count": 20,
   "metadata": {},
   "outputs": [
    {
     "data": {
      "text/html": [
       "<div>\n",
       "<style scoped>\n",
       "    .dataframe tbody tr th:only-of-type {\n",
       "        vertical-align: middle;\n",
       "    }\n",
       "\n",
       "    .dataframe tbody tr th {\n",
       "        vertical-align: top;\n",
       "    }\n",
       "\n",
       "    .dataframe thead th {\n",
       "        text-align: right;\n",
       "    }\n",
       "</style>\n",
       "<table border=\"1\" class=\"dataframe\">\n",
       "  <thead>\n",
       "    <tr style=\"text-align: right;\">\n",
       "      <th></th>\n",
       "      <th>Prediction</th>\n",
       "      <th>Targets</th>\n",
       "      <th>Residual</th>\n",
       "      <th>Difference%</th>\n",
       "    </tr>\n",
       "  </thead>\n",
       "  <tbody>\n",
       "    <tr>\n",
       "      <th>count</th>\n",
       "      <td>175.000000</td>\n",
       "      <td>175.000000</td>\n",
       "      <td>175.000000</td>\n",
       "      <td>175.000000</td>\n",
       "    </tr>\n",
       "    <tr>\n",
       "      <th>mean</th>\n",
       "      <td>126402.558269</td>\n",
       "      <td>131821.748571</td>\n",
       "      <td>22760.778251</td>\n",
       "      <td>18.407932</td>\n",
       "    </tr>\n",
       "    <tr>\n",
       "      <th>std</th>\n",
       "      <td>54396.729881</td>\n",
       "      <td>61436.889166</td>\n",
       "      <td>23028.618056</td>\n",
       "      <td>16.407915</td>\n",
       "    </tr>\n",
       "    <tr>\n",
       "      <th>min</th>\n",
       "      <td>4961.984175</td>\n",
       "      <td>35000.000000</td>\n",
       "      <td>143.273107</td>\n",
       "      <td>0.153233</td>\n",
       "    </tr>\n",
       "    <tr>\n",
       "      <th>25%</th>\n",
       "      <td>83606.070171</td>\n",
       "      <td>84950.000000</td>\n",
       "      <td>6983.163562</td>\n",
       "      <td>5.821558</td>\n",
       "    </tr>\n",
       "    <tr>\n",
       "      <th>50%</th>\n",
       "      <td>121059.196066</td>\n",
       "      <td>116000.000000</td>\n",
       "      <td>15262.841445</td>\n",
       "      <td>13.880963</td>\n",
       "    </tr>\n",
       "    <tr>\n",
       "      <th>75%</th>\n",
       "      <td>163793.339725</td>\n",
       "      <td>166500.000000</td>\n",
       "      <td>30639.931176</td>\n",
       "      <td>26.856119</td>\n",
       "    </tr>\n",
       "    <tr>\n",
       "      <th>max</th>\n",
       "      <td>261152.941073</td>\n",
       "      <td>332888.000000</td>\n",
       "      <td>139197.232320</td>\n",
       "      <td>88.849474</td>\n",
       "    </tr>\n",
       "  </tbody>\n",
       "</table>\n",
       "</div>"
      ],
      "text/plain": [
       "          Prediction        Targets       Residual  Difference%\n",
       "count     175.000000     175.000000     175.000000   175.000000\n",
       "mean   126402.558269  131821.748571   22760.778251    18.407932\n",
       "std     54396.729881   61436.889166   23028.618056    16.407915\n",
       "min      4961.984175   35000.000000     143.273107     0.153233\n",
       "25%     83606.070171   84950.000000    6983.163562     5.821558\n",
       "50%    121059.196066  116000.000000   15262.841445    13.880963\n",
       "75%    163793.339725  166500.000000   30639.931176    26.856119\n",
       "max    261152.941073  332888.000000  139197.232320    88.849474"
      ]
     },
     "execution_count": 20,
     "metadata": {},
     "output_type": "execute_result"
    }
   ],
   "source": [
    "err = pd.DataFrame((y_hat_test), columns = ['Prediction'])\n",
    "err['Targets'] = y_test.reset_index(drop=True)\n",
    "err['Residual'] = abs(err['Prediction'] - err['Targets'])\n",
    "err['Difference%'] = err['Residual']/err['Targets']*100\n",
    "err.describe()"
   ]
  }
 ],
 "metadata": {
  "kernelspec": {
   "display_name": "Python 3",
   "language": "python",
   "name": "python3"
  },
  "language_info": {
   "codemirror_mode": {
    "name": "ipython",
    "version": 3
   },
   "file_extension": ".py",
   "mimetype": "text/x-python",
   "name": "python",
   "nbconvert_exporter": "python",
   "pygments_lexer": "ipython3",
   "version": "3.8.5"
  }
 },
 "nbformat": 4,
 "nbformat_minor": 4
}

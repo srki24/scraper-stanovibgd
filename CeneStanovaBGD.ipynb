{
 "cells": [
  {
   "cell_type": "code",
   "execution_count": null,
   "metadata": {},
   "outputs": [],
   "source": [
    "import pandas as pd\n",
    "from bs4 import BeautifulSoup\n",
    "from requests import get\n",
    "from datetime import datetime"
   ]
  },
  {
   "cell_type": "code",
   "execution_count": null,
   "metadata": {},
   "outputs": [],
   "source": [
    "start = datetime.now()"
   ]
  },
  {
   "cell_type": "code",
   "execution_count": null,
   "metadata": {},
   "outputs": [],
   "source": [
    "df = pd.DataFrame({'Address': list(), 'Size':list(), 'Rooms':list(), 'Floor':list(), \n",
    "                   'Price (eur)':list(), 'Price_by_surface (eur/m2)':list(), 'Type':list()})\n",
    "l = []"
   ]
  },
  {
   "cell_type": "code",
   "execution_count": null,
   "metadata": {},
   "outputs": [],
   "source": [
    "url = 'https://www.halooglasi.com/nekretnine/prodaja-stanova/beograd?page='\n",
    "\n",
    "# headers={'User-agent': 'Mozilla/5.0 (X11; Ubuntu; Linux x86_64; rv:61.0) Gecko/20100101 Firefox/61.0'} \n",
    "\n",
    "# site currently does not reqest usage of headers\n",
    "\n",
    "for page in range (1, 50): #pages to scrap, starting from page 1 to n\n",
    "\n",
    "    r = get(f'{url}{page}') # headers= headers) \n",
    "    c = r.content\n",
    "    soup= BeautifulSoup(c, 'html.parser')\n",
    "\n",
    "    cases =['Premium', 'Standard', 'Top']\n",
    "\n",
    "# There are 3 different add cases, depanding if apartment is classified as a Premium, Top or Standared.\n",
    "# In html, only the division class product changes, while all other things are same\n",
    "\n",
    "    for case in cases:\n",
    "        find_all = soup.find_all('div', {'class':f'product-item product-list-item {case} real-estates my-product-placeholder'}) \n",
    "\n",
    "        for entry in find_all:\n",
    "            d = {}\n",
    "            try:\n",
    "                d['Address'] = entry.find('ul', {'class': 'subtitle-places'}).text.replace('\\xa0', ' ')\n",
    "            except:\n",
    "                d['Adress']= None\n",
    "            \n",
    "            \n",
    "# Serbian numbering notation is a bit different than english, thus python interpretates values \n",
    "# larger then 1000 as integer (1.0). That is why we need to check their type and scale them accordinlgy.\n",
    "# which usually is the case. If the integer check is ommited, values smaller then 1000 would be misinterpretated\n",
    "# for example 858 would be interpretated as 858000\n",
    "    \n",
    "            \n",
    "            try:\n",
    "                d['Price (eur)'] = int(entry.find('div', {'class':'central-feature'}).text.replace('\\xa0', ' ').replace(' €', ''))\n",
    "            except:\n",
    "                try:\n",
    "                    d['Price (eur)'] = 1000*float(entry.find('div', {'class':'central-feature'}).text.replace('\\xa0', ' ').replace(' €', ''))\n",
    "                except:\n",
    "                    d['Price (eur)']= None\n",
    "                \n",
    "            try:\n",
    "                d['Price_by_surface (eur/m2)'] = int(entry.find('div', {'class':'price-by-surface'}).text.replace('\\xa0', ' ').replace('€/m2', ''))\n",
    "            except:\n",
    "                try:\n",
    "                    d['Price_by_surface (eur/m2)'] = 1000*float(entry.find('div', {'class':'price-by-surface'}).text.replace('\\xa0', ' ').replace('€/m2', ''))\n",
    "                \n",
    "                except:\n",
    "                    d['Price_by_surface (eur/m2)']= None\n",
    "            \n",
    "            try:\n",
    "                d['Size'] = entry.find_all('div', {'class':'value-wrapper'})[0].text.replace('\\xa0', ' ').replace('Kvadratura', '')\n",
    "            except:\n",
    "                d['Size']= None\n",
    "            \n",
    "            try:\n",
    "                d['Rooms'] = entry.find_all('div', {'class':'value-wrapper'})[1].text.replace('\\xa0', ' ').replace(' Broj soba', '')\n",
    "            except:\n",
    "                d['Rooms']= None\n",
    "            \n",
    "            try:\n",
    "                d['Floor'] = entry.find_all('div', {'class':'value-wrapper'})[2].text.replace('\\xa0', ' ').replace(' Spratnost', '')\n",
    "            except:\n",
    "                d['Floor']= None\n",
    "            d['Type'] = case\n",
    "            \n",
    "            l.append(d) #appending to the list, and not directly to the data frame, becase it should be faster this way"
   ]
  },
  {
   "cell_type": "code",
   "execution_count": null,
   "metadata": {},
   "outputs": [],
   "source": [
    "df = df.append(l, ignore_index=True)"
   ]
  },
  {
   "cell_type": "code",
   "execution_count": null,
   "metadata": {},
   "outputs": [],
   "source": [
    "df.to_csv('StanoviBGD.csv')"
   ]
  },
  {
   "cell_type": "code",
   "execution_count": null,
   "metadata": {},
   "outputs": [],
   "source": [
    "print(datetime.now() - start)"
   ]
  }
 ],
 "metadata": {
  "kernelspec": {
   "display_name": "Python 3",
   "language": "python",
   "name": "python3"
  },
  "language_info": {
   "codemirror_mode": {
    "name": "ipython",
    "version": 3
   },
   "file_extension": ".py",
   "mimetype": "text/x-python",
   "name": "python",
   "nbconvert_exporter": "python",
   "pygments_lexer": "ipython3",
   "version": "3.8.3"
  }
 },
 "nbformat": 4,
 "nbformat_minor": 4
}
